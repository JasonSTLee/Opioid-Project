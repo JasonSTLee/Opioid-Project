{
 "cells": [
  {
   "cell_type": "markdown",
   "metadata": {},
   "source": [
    "Getting data from Census Bureau"
   ]
  },
  {
   "cell_type": "code",
   "execution_count": 23,
   "metadata": {},
   "outputs": [],
   "source": [
    "import requests\n",
    "import pandas as pd\n",
    "import os\n",
    "\n",
    "# get population data for year: 2009, 2014, 2019\n",
    "# This is from the Census Bureau's API, hopefully a more accurate representation of the population than from Wiki"
   ]
  },
  {
   "cell_type": "code",
   "execution_count": 22,
   "metadata": {},
   "outputs": [],
   "source": [
    "# I created a txt file that has my API key\n",
    "api_key = open('/Users/admin/Desktop/opioid_project/census_api_key.txt').read().strip()"
   ]
  },
  {
   "cell_type": "code",
   "execution_count": 19,
   "metadata": {},
   "outputs": [
    {
     "name": "stdout",
     "output_type": "stream",
     "text": [
      "    COUNTY DATE_CODE                           DATE_DESC            DENSITY  \\\n",
      "0     None         1          4/1/2010 Census population  94.37419562200000   \n",
      "1     None         2  4/1/2010 population estimates base  94.38187628900000   \n",
      "2     None         3        7/1/2010 population estimate  94.48675984900000   \n",
      "3     None         4        7/1/2011 population estimate  94.75591886400000   \n",
      "4     None         5        7/1/2012 population estimate  95.08208067300000   \n",
      "..     ...       ...                                 ...                ...   \n",
      "619   None         8        7/1/2015 population estimate               None   \n",
      "620   None         9        7/1/2016 population estimate               None   \n",
      "621   None        10        7/1/2017 population estimate               None   \n",
      "622   None        11        7/1/2018 population estimate               None   \n",
      "623   None        12        7/1/2019 population estimate               None   \n",
      "\n",
      "         POP         NAME STATE state  \n",
      "0    4779736      Alabama    01    01  \n",
      "1    4780125      Alabama    01    01  \n",
      "2    4785437      Alabama    01    01  \n",
      "3    4799069      Alabama    01    01  \n",
      "4    4815588      Alabama    01    01  \n",
      "..       ...          ...   ...   ...  \n",
      "619  3473232  Puerto Rico    72    72  \n",
      "620  3406672  Puerto Rico    72    72  \n",
      "621  3325286  Puerto Rico    72    72  \n",
      "622  3193354  Puerto Rico    72    72  \n",
      "623  3193694  Puerto Rico    72    72  \n",
      "\n",
      "[624 rows x 8 columns]\n"
     ]
    }
   ],
   "source": [
    "url = f'https://api.census.gov/data/2019/pep/population?get=COUNTY,DATE_CODE,DATE_DESC,DENSITY,POP,NAME,STATE&for=state:*&key={api_key}'\n",
    "response = requests.get(url)\n",
    "\n",
    "response.status_code\n",
    "\n",
    "data = response.json()\n",
    "\n",
    "columns = data[0]\n",
    "rows = data[1:]\n",
    "\n",
    "df_2019 = pd.DataFrame(rows, columns = columns)\n",
    "\n",
    "df_2019.to_csv('example.csv')"
   ]
  },
  {
   "cell_type": "code",
   "execution_count": 21,
   "metadata": {},
   "outputs": [],
   "source": [
    "os.rename('/Users/admin/Desktop/opioid_project/example.csv', '2010-2019_pop.csv')"
   ]
  }
 ],
 "metadata": {
  "kernelspec": {
   "display_name": "Python 3",
   "language": "python",
   "name": "python3"
  },
  "language_info": {
   "codemirror_mode": {
    "name": "ipython",
    "version": 3
   },
   "file_extension": ".py",
   "mimetype": "text/x-python",
   "name": "python",
   "nbconvert_exporter": "python",
   "pygments_lexer": "ipython3",
   "version": "3.12.2"
  }
 },
 "nbformat": 4,
 "nbformat_minor": 2
}
